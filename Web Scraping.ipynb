{
 "cells": [
  {
   "cell_type": "markdown",
   "metadata": {},
   "source": [
    "## Use request library to download web pages"
   ]
  },
  {
   "cell_type": "code",
   "execution_count": 1,
   "metadata": {},
   "outputs": [],
   "source": [
    "!pip install requests --upgrade --quiet"
   ]
  },
  {
   "cell_type": "code",
   "execution_count": 2,
   "metadata": {},
   "outputs": [],
   "source": [
    "import requests as req"
   ]
  },
  {
   "cell_type": "code",
   "execution_count": 3,
   "metadata": {},
   "outputs": [],
   "source": [
    "my_url = \"https://www.digikala.com/search/category-men-shirts/\""
   ]
  },
  {
   "cell_type": "code",
   "execution_count": 4,
   "metadata": {},
   "outputs": [],
   "source": [
    "response = req.get(my_url)"
   ]
  },
  {
   "cell_type": "code",
   "execution_count": 5,
   "metadata": {},
   "outputs": [
    {
     "data": {
      "text/plain": [
       "200"
      ]
     },
     "execution_count": 5,
     "metadata": {},
     "output_type": "execute_result"
    }
   ],
   "source": [
    "response.status_code"
   ]
  },
  {
   "cell_type": "code",
   "execution_count": 6,
   "metadata": {},
   "outputs": [],
   "source": [
    "page_content = response.text"
   ]
  },
  {
   "cell_type": "code",
   "execution_count": 7,
   "metadata": {},
   "outputs": [],
   "source": [
    "file_name = 'web_page.html'"
   ]
  },
  {
   "cell_type": "code",
   "execution_count": 8,
   "metadata": {},
   "outputs": [],
   "source": [
    "with open(file_name, 'w',encoding=\"utf-8\") as f:\n",
    "    f.write(page_content)"
   ]
  },
  {
   "cell_type": "markdown",
   "metadata": {},
   "source": [
    "## Use Beautiful soup to parse and extract information"
   ]
  },
  {
   "cell_type": "code",
   "execution_count": 9,
   "metadata": {},
   "outputs": [],
   "source": [
    "!pip install beautifulsoup4 --upgrade --quiet"
   ]
  },
  {
   "cell_type": "code",
   "execution_count": 10,
   "metadata": {},
   "outputs": [],
   "source": [
    "from bs4 import BeautifulSoup"
   ]
  },
  {
   "cell_type": "code",
   "execution_count": 11,
   "metadata": {},
   "outputs": [],
   "source": [
    "doc = BeautifulSoup(page_content, 'html.parser')"
   ]
  },
  {
   "cell_type": "code",
   "execution_count": 12,
   "metadata": {},
   "outputs": [],
   "source": [
    "p_tag = doc.find_all('p')"
   ]
  },
  {
   "cell_type": "code",
   "execution_count": 17,
   "metadata": {},
   "outputs": [
    {
     "name": "stdout",
     "output_type": "stream",
     "text": [
      "<p class=\"c-header__cart-info-total-amount\">\n",
      "<span class=\"c-header__cart-info-total-amount-number\"> </span>\n",
      "<span> تومان</span>\n",
      "</p>\n",
      "\n",
      "\n",
      "<p class=\"js-free-shipping-badge-text\">\n",
      "                اولین سفارش کاربران جدید\n",
      "            </p>\n",
      "\n",
      "\n",
      "<p>برند یا سازنده‌ای با این نام پیدا نشد!</p>\n",
      "\n",
      "\n",
      "<p>برند یا سازنده‌ای با این نام پیدا نشد!</p>\n",
      "\n",
      "\n",
      "<p>برند یا سازنده‌ای با این نام پیدا نشد!</p>\n",
      "\n",
      "\n",
      "<p>برند یا سازنده‌ای با این نام پیدا نشد!</p>\n",
      "\n",
      "\n",
      "<p>برند یا سازنده‌ای با این نام پیدا نشد!</p>\n",
      "\n",
      "\n",
      "<p>برند یا سازنده‌ای با این نام پیدا نشد!</p>\n",
      "\n",
      "\n",
      "<p>برند یا سازنده‌ای با این نام پیدا نشد!</p>\n",
      "\n",
      "\n",
      "<p>برند یا سازنده‌ای با این نام پیدا نشد!</p>\n",
      "\n",
      "\n",
      "<p>برند یا سازنده‌ای با این نام پیدا نشد!</p>\n",
      "\n",
      "\n",
      "<p>برند یا سازنده‌ای با این نام پیدا نشد!</p>\n",
      "\n",
      "\n",
      "<p>برند یا سازنده‌ای با این نام پیدا نشد!</p>\n",
      "\n",
      "\n",
      "<p>برند یا سازنده‌ای با این نام پیدا نشد!</p>\n",
      "\n",
      "\n",
      "<p>برند یا سازنده‌ای با این نام پیدا نشد!</p>\n",
      "\n",
      "\n",
      "<p>برند یا سازنده‌ای با این نام پیدا نشد!</p>\n",
      "\n",
      "\n",
      "<p>برند یا سازنده‌ای با این نام پیدا نشد!</p>\n",
      "\n",
      "\n",
      "<p dir=\"RTL\">بخش جدانشدنی از تیپ و استایل مردانه انواع <strong><a href=\"https://www.digikala.com/search/category-men-tee-shirts-and-polos/\" target=\"_blank\">تی شرت و پولوشرت</a></strong> است. بلوزها و پیراهن‌های مردانه از تنوع بسیار زیادی برخوردار هستند و در هزاران رنگ و طرح طراحی و تولید می‌شوند. پیراهن مردانه را می‌توان هم با استایل‌های کژوال و روزمره پوشید و هم با <strong><a href=\"https://www.digikala.com/search/category-men-blazers-suits/\" target=\"_blank\">کت‌وشلوار</a></strong> برای مهمانی‌ها و فضاهای رسمی ست کرد. </p>\n",
      "\n",
      "\n",
      "<p dir=\"RTL\">برای خرید پیراهن مردانه‌ای که هم ازنظر سایز و هم ازنظر سلیقه مناسب باشد باید پیش از خرید به چند نکته‌‌ی ریز اما بسیار تأثیرگذار توجه کرد. اندازه‌ی یقه‌ی پیراهن مردانه از آن موضوعاتی  است که خیلی از افراد هنگام خرید به آن توجه نمی‌‌‌‌‌کنند. اندازه‌ی یقه نباید خیلی آزاد و نباید خیلی تنگ باشد، باید فضای گردن به‌صورت آزاد در میان یقه قرار بگیرد و جای کافی برای استفاده از پاپیون و کراوات هم باشد. یقه برگردان و یقه دیپلمات از معروف‌ترین مدل‌های یقه‌ی بلوز مردانه هستند. <br/>\r\n",
      "اندازه‌ی آستین پیراهن مردانه دومین موضوعی است که هنگام خرید باید به آن توجه کرد. آستین پیراهن نباید خیلی بلند و نه خیلی کوتاه باشد. آستین باید کاملاً اندازه‌ای مناسب و تا روی مچ دست باشد. آستین بلوزهای مردانه به‌طور کلی در دو مد آستین بلند و آستین کوتاه است، آستین کوتاه تا بالای آرنج است. اگر اندازه شانه‌ و نیم‌تنه‌ی پیراهن خیلی تنگ باشد باعث می‌شود لباس زودتر از عمر خود فرسوده و پاره شود و همچنین ایجاد محدودیت برای فرد استفاده‌کننده بیاورد. <br/>\r\n",
      "به دلیل استفاده‌ی مداوم از پیراهن مردانه بهتر است یکی از انواع مرغوب آن تهیه شود. پیراهن‌های باکیفیت از جنس پنبه، نخ و ویسکوز هستند و تا چندین سال کاربرد دارند. قد استاندارد پیراهن‌های مردانه تا روی باسن است ولی براساس نوع سلیقه و نیاز می‌توان این استاندارد را رعایت نکرد. <br/>\r\n",
      "طرح پارچه‌ی ساده و رنگ‌های سفید، مشکی، طوسی و آبی محبوب‌ترین و شیک‌ترین مدل‌های پیراهن مردانه هستند. این پیراهن‌ها را می‌توان هم با <strong><a href=\"https://www.digikala.com/search/category-men-jeans/\" target=\"_blank\">شلوار جین</a></strong> و کفش اسپرت یا کالج ست کرد و هم می‌توان با کت‌وشلوارهای مشکی، خاکستری و قهوه‌ای پوشید.</p>\n",
      "\n",
      "\n",
      "<p dir=\"RTL\">برای خرید آنلاین انواع پیراهن مردانه می‌توان به فروشگاه اینترنتی دیجی‌کالا مراجعه کرد. این فروشگاه انواع پیراهن مردانه و پسرانه ترند سال 2021 از برندهای ایرانی و خارجی مانند منگو، زارا و ال سی وایکیکی را گردآوری کرده است. بهتر است پیش از خرید جدول سایز هر پیراهن را مشاهده کرد و متناسب با سایز دلخواه لباس خود را سفارش داد. </p>\n",
      "\n",
      "\n",
      "<p class=\"js-remodal-general-alert__text\"></p>\n",
      "\n",
      "\n",
      "<p class=\"c-remodal-general-alert__description js-remodal-general-alert__description\"></p>\n",
      "\n",
      "\n",
      "<p class=\"js-remodal-general-information__text\"></p>\n",
      "\n",
      "\n",
      "<p class=\"c-remodal-fmcg__head-text\">ارسال سریع کالای <span> سوپر مارکتی </span> فقط در تهران و کرج امکان پذیر است.</p>\n",
      "\n",
      "\n",
      "<p class=\"c-remodal-fmcg__question\">با توجه به محدودیت ارسال، آیا مایل هستید این کالا به سبد خرید شما افزوده شود؟</p>\n",
      "\n",
      "\n",
      "<p style=\"text-align: justify\"><span class=\"c-new-footer__seo-content\" id=\"seo-main-content\">\n",
      "                        دیجی‌کالا به عنوان یکی از قدیمی‌ترین فروشگاه های اینترنتی با بیش از یک دهه تجربه، با پایبندی به سه اصل، پرداخت در محل، ۷ روز ضمانت بازگشت کالا و تضمین اصل‌بودن کالا موفق شده تا همگام با فروشگاه‌های معتبر جهان، به بزرگ‌ترین فروشگاه اینترنتی ایران تبدیل شود. به محض ورود به سایت دیجی‌کالا با دنیایی از کالا رو به رو می‌شوید! هر آنچه که نیاز دارید و به ذهن شما خطور می‌کند در اینجا پیدا خواهید کرد.\n",
      "                </span><span class=\"c-new-footer__seo-readmore\" id=\"js-footer-readmore-content\" style=\"font-weight: 400;\">\n",
      "                    حتی زمانی که بین خرید کالاها برای شخصی مردد هستید می‌توانید با خرید\n",
      "                    <a href=\"/search/category-digikala-gift-card/\" target=\"_blank\">\n",
      "                    کارت هدیه دیجی کالا\n",
      "                    </a>\n",
      "                    ، انتخاب را به سایرین بسپارید. این فروشگاه مثل یک ویترین پر زرق و برق است که با انواع و اقسام محصولاتی نظیر\n",
      "                    <a href=\"/search/category-mobile-phone/samsung/\" target=\"_blank\">\n",
      "                    گوشی موبایل سامسونگ\n",
      "                    </a>\n",
      "                    ،\n",
      "                    <a href=\"/search/category-smart-watch/apple/\" target=\"_blank\">\n",
      "                    ساعت هوشمند اپل\n",
      "                    </a>\n",
      "                    ،\n",
      "                    <a href=\"/search/category-tv2/samsung/\" target=\"_blank\">\n",
      "                    تلویزیون سامسونگ\n",
      "                    </a>\n",
      "                    ،\n",
      "                    <a href=\"/search/category-notebook-netbook-ultrabook/asus/\" target=\"_blank\">\n",
      "                    لپ تاپ و الترابوک ایسوس\n",
      "                    </a>\n",
      "                    ،\n",
      "                    <a href=\"/search/category-mobile-phone/huawei/\" target=\"_blank\">\n",
      "                    گوشی موبایل هواوی\n",
      "                    </a>\n",
      "                    و همچنین محصولاتی که هر فرد در زندگی شخصی، تحصیلی و کاری خود به آنها احتیاج پیدا می‌کند، چیده شده است. اینجا مرجع متنوع‌ترین کالاهای مصرفی از\n",
      "                    <a href=\"/search/category-mobile-phone/motorola/\" target=\"_blank\">\n",
      "                    گوشی موبایل موتورولا\n",
      "                    </a>\n",
      "                    گرفته تا\n",
      "                    <a href=\"/search/category-tablet/lenovo/\" target=\"_blank\">\n",
      "                    تبلت لنوو\n",
      "                    </a>\n",
      "                    ،\n",
      "                    <a href=\"/search/category-iron/panasonic/\" target=\"_blank\">\n",
      "                    اتو پاناسونیک\n",
      "                    </a>\n",
      "                    ،\n",
      "                    <a href=\"/search/category-handheld-vaccum/black-and-decker/\" target=\"_blank\">\n",
      "                    جارو شارژی بلک اند دکر\n",
      "                    </a>\n",
      "                    ،\n",
      "                    <a href=\"/search/category-iranian-cooler/aabsal/\" target=\"_blank\">\n",
      "                    کولر آبی آبسال\n",
      "                    </a>\n",
      "                    ،\n",
      "                    <a href=\"/search/category-speaker/jbl/\" target=\"_blank\">\n",
      "                    اسپیکر (بلندگو) جی بی ال\n",
      "                    </a>\n",
      "                    و حتی خرید\n",
      "                    <a href=\"/landings/dowry/\" target=\"_blank\">\n",
      "                    لوازم جهیزیه\n",
      "                    </a>\n",
      "                    می‌باشد. دیجی‌کالا همچنین یک بازار آنلاین برای خرید جدیدترین و ضروری‌ترین لوازم خانگی همانند\n",
      "                    <a href=\"/search/category-airfryer/philips/\" target=\"_blank\">\n",
      "                    سرخ کن فیلیپس\n",
      "                    </a>\n",
      "                    ،\n",
      "                    <a href=\"/search/category-refrigerator-freezer/emersun/\" target=\"_blank\">\n",
      "                    یخچال و فریزر امرسان\n",
      "                    </a>\n",
      "                    ،\n",
      "                    <a href=\"/search/category-vaccum-cleaner/pars-khazar/\" target=\"_blank\">\n",
      "                    جاروبرقی پارس خزر\n",
      "                    </a>\n",
      "                    ،\n",
      "                    <a href=\"/search/category-juicer/bosch/\" target=\"_blank\">\n",
      "                    آبمیوه گیری بوش\n",
      "                    </a>\n",
      "                    ،\n",
      "                    <a href=\"/search/category-home-theatre/sony/\" target=\"_blank\">\n",
      "                    سینمای خانگی و ساندبار سونی\n",
      "                    </a>\n",
      "                    و\n",
      "                    <a href=\"/search/category-home-multimedia-player/\" target=\"_blank\">\n",
      "                    انواع پخش کننده خانگی\n",
      "                    </a>\n",
      "                    می‌باشد تا هر فرد بتواند مطابق با سلیقه شخصی خود، خانه رویاهایش را بسازد. حتی می‌توانید از مشهورترین برندهای داخلی و خارجی انواع\n",
      "                    <a href=\"/search/category-manteau-and-poncho/\" target=\"_blank\">\n",
      "                    مدل مانتو جدید\n",
      "                    </a>\n",
      "                    ،\n",
      "                    <a href=\"/search/category-women-homewear-sets-/\" target=\"_blank\">\n",
      "                    لباس خواب زنانه\n",
      "                    </a>\n",
      "                    ،\n",
      "                    <a href=\"/search/category-men-shirts/\" target=\"_blank\">\n",
      "                    پیراهن مردانه\n",
      "                    </a>\n",
      "                    ،\n",
      "                    <a href=\"/search/category-women-dresses/\" target=\"_blank\">\n",
      "                    پیراهن و لباس مجلسی زنانه\n",
      "                    </a>\n",
      "                    ،\n",
      "                    <a href=\"/search/category-kids-apparel/\" target=\"_blank\">\n",
      "                    لباس بچه گانه\n",
      "                    </a>\n",
      "                    ،\n",
      "                    <a href=\"/search/category-women-shirts/\" target=\"_blank\">\n",
      "                    شومیز زنانه و دخترانه\n",
      "                    </a>\n",
      "                    و انواع\n",
      "                    <a href=\"/search/category-men-underwear/\" target=\"_blank\">\n",
      "                    لباس زیر مردانه\n",
      "                    </a>\n",
      "                    را به صورت آنلاین با کمک راهنمای سایز خریداری کنید.  این فروشگاه اینترنتی حتی برای سرگرمی کودکان هم خرید محصولاتی مانند\n",
      "                    <a href=\"/search/category-toy-and-model/\" target=\"_blank\">\n",
      "                    عروسک\n",
      "                    </a>\n",
      "                    ،\n",
      "                    <a href=\"/search/category-toys/\" target=\"_blank\">\n",
      "                    مدل‌های اسباب بازی\n",
      "                    </a>\n",
      "                    دخترانه و پسرانه و انواع\n",
      "                    <a href=\"/search/category-building/lego/\" target=\"_blank\">\n",
      "                    لگو\n",
      "                    </a>\n",
      "                    را فراهم کرده است. همچنین با سر زدن به محصولات آرایشی و بهداشتی زنانه و مردانه مانند\n",
      "                    <a href=\"/search/category-perfume/dior/\" target=\"_blank\">\n",
      "                    عطر و ادکلن دیور\n",
      "                    </a>\n",
      "                    ،\n",
      "                    <a href=\"/search/category-perfume/lalique/\" target=\"_blank\">\n",
      "                    لالیک\n",
      "                    </a>\n",
      "                    ،\n",
      "                    <a href=\"/search/category-perfume/jaguar/\" target=\"_blank\">\n",
      "                    جگوار\n",
      "                    </a>\n",
      "                    ،\n",
      "                    <a href=\"/search/category-perfume/guerlain/\" target=\"_blank\">\n",
      "                    گرلن اصل\n",
      "                    </a>\n",
      "                    ،\n",
      "                    <a href=\"/search/category-shaver/philips/\" target=\"_blank\">\n",
      "                    انواع دستگاه اصلاح موی صورت فیلیپس\n",
      "                    </a>\n",
      "                    ،\n",
      "                    <a href=\"/search/category-shaver/moser/\" target=\"_blank\">\n",
      "                    موزر\n",
      "                    </a>\n",
      "                    ،\n",
      "                    <a href=\"/search/category-shaver/panasonic/\" target=\"_blank\">\n",
      "                    پاناسونیک\n",
      "                    </a>\n",
      "                    و حتی بهترین برندهای\n",
      "                    <a href=\"/search/category-hair-color-kit/\" target=\"_blank\">\n",
      "                    رنگ مو و ابرو\n",
      "                    </a>\n",
      "                    می‌توانید تجربه‌ای جدید از خرید آنلاین کسب کنید. شما می توانید کلیه نیازهای خود را تنها با چند کلیک سفارش داده و در کمترین زمان ممکن درب منزل تحویل بگیرید.\n",
      "\n",
      "\n",
      "                </span><span class=\"c-new-footer__seo-readmore-btn\" data-snt-event=\"dkFooterClick\" data-snt-params='{\"item\":\"read-more\",\"item_option\":null}' id=\"js-footer-readmore\">\n",
      "                          مشاهده بیشتر\n",
      "                    </span><br/></p>\n",
      "\n",
      "\n",
      "<p>\n",
      "                            برای راهنمایی بهتر لطفا اطلاعات زیر را وارد کنید:\n",
      "                        </p>\n",
      "\n",
      "\n",
      "<p>\n",
      "                            پیشتیبان هوش مصنوعی دیجی‌کالا\n",
      "                        </p>\n",
      "\n",
      "\n",
      "<p class=\"c-wiki__text\">\n",
      "            من ربات هوشمند گفت و گوی آنلاین دیجی‌کالا هستم و در حال حاضر در حال آموزش دیدن برای پاسخگویی بهتر و انتقال پیام شما به پاسخگوی مرتبط با مشکلتان هستم.\n",
      "        </p>\n",
      "\n",
      "\n",
      "<p>\n",
      "                                    به پشتیبانی هوشمند دیجی‌کالا خوش آمدید. لطفا سوال خود را بپرسید.\n",
      "                                </p>\n",
      "\n",
      "\n",
      "<p data-icon=\"Icon-Action-Question\">آیا پاسخی که گرفتید مناسب بود؟</p>\n",
      "\n",
      "\n"
     ]
    }
   ],
   "source": [
    "for item in p_tag:\n",
    "    print(item)\n",
    "    print('\\n')"
   ]
  },
  {
   "cell_type": "code",
   "execution_count": 24,
   "metadata": {},
   "outputs": [],
   "source": [
    "selection_class = \"c-remodal-fmcg__head-text\"\n",
    "\n",
    "p_tag_class1 = doc.find_all('p' , {'class' : selection_class})"
   ]
  },
  {
   "cell_type": "code",
   "execution_count": 25,
   "metadata": {},
   "outputs": [
    {
     "data": {
      "text/plain": [
       "[<p class=\"c-remodal-fmcg__head-text\">ارسال سریع کالای <span> سوپر مارکتی </span> فقط در تهران و کرج امکان پذیر است.</p>]"
      ]
     },
     "execution_count": 25,
     "metadata": {},
     "output_type": "execute_result"
    }
   ],
   "source": [
    "p_tag_class1"
   ]
  },
  {
   "cell_type": "code",
   "execution_count": 27,
   "metadata": {},
   "outputs": [
    {
     "data": {
      "text/plain": [
       "<div class=\"c-remodal-fmcg__content\"><p class=\"c-remodal-fmcg__head-text\">ارسال سریع کالای <span> سوپر مارکتی </span> فقط در تهران و کرج امکان پذیر است.</p><p class=\"c-remodal-fmcg__question\">با توجه به محدودیت ارسال، آیا مایل هستید این کالا به سبد خرید شما افزوده شود؟</p><div class=\"c-remodal-fmcg__actions\"><button class=\"c-remodal-fmcg__button c-remodal-fmcg__button--reject js-fmcg-modal-reject\">خیر</button><button class=\"c-remodal-fmcg__button c-remodal-fmcg__button--approve js-fmcg-modal-approve\">بله</button></div></div>"
      ]
     },
     "execution_count": 27,
     "metadata": {},
     "output_type": "execute_result"
    }
   ],
   "source": [
    "class1 = p_tag_class1[0]\n",
    "class1.parent"
   ]
  },
  {
   "cell_type": "code",
   "execution_count": 29,
   "metadata": {},
   "outputs": [
    {
     "data": {
      "text/plain": [
       "['c-remodal-fmcg__head-text']"
      ]
     },
     "execution_count": 29,
     "metadata": {},
     "output_type": "execute_result"
    }
   ],
   "source": [
    "class1['class']"
   ]
  },
  {
   "cell_type": "code",
   "execution_count": 31,
   "metadata": {},
   "outputs": [
    {
     "data": {
      "text/plain": [
       "<span> سوپر مارکتی </span>"
      ]
     },
     "execution_count": 31,
     "metadata": {},
     "output_type": "execute_result"
    }
   ],
   "source": [
    "class1.span"
   ]
  },
  {
   "cell_type": "code",
   "execution_count": 32,
   "metadata": {},
   "outputs": [
    {
     "data": {
      "text/plain": [
       "'ارسال سریع کالای  سوپر مارکتی  فقط در تهران و کرج امکان پذیر است.'"
      ]
     },
     "execution_count": 32,
     "metadata": {},
     "output_type": "execute_result"
    }
   ],
   "source": [
    "class1.text"
   ]
  },
  {
   "cell_type": "markdown",
   "metadata": {},
   "source": [
    "## import pandas"
   ]
  },
  {
   "cell_type": "code",
   "execution_count": 36,
   "metadata": {},
   "outputs": [],
   "source": [
    "!pip install pandas --quiet"
   ]
  },
  {
   "cell_type": "code",
   "execution_count": 37,
   "metadata": {},
   "outputs": [],
   "source": [
    "import pandas as pd"
   ]
  },
  {
   "cell_type": "code",
   "execution_count": 41,
   "metadata": {},
   "outputs": [],
   "source": [
    "# example of a dataset\n",
    "persons_dict ={\n",
    "    'names' : ['Ali','Ahmad','Sara','Reza','Elnaz'],\n",
    "    'ages'  : [5,10,3,13,12],\n",
    "    'gender': ['male','male','female','male','female']\n",
    "}"
   ]
  },
  {
   "cell_type": "code",
   "execution_count": 45,
   "metadata": {},
   "outputs": [],
   "source": [
    "persons_df = pd.DataFrame(persons_dict,columns = ['names','ages','gender'])"
   ]
  },
  {
   "cell_type": "code",
   "execution_count": 46,
   "metadata": {},
   "outputs": [
    {
     "data": {
      "text/html": [
       "<div>\n",
       "<style scoped>\n",
       "    .dataframe tbody tr th:only-of-type {\n",
       "        vertical-align: middle;\n",
       "    }\n",
       "\n",
       "    .dataframe tbody tr th {\n",
       "        vertical-align: top;\n",
       "    }\n",
       "\n",
       "    .dataframe thead th {\n",
       "        text-align: right;\n",
       "    }\n",
       "</style>\n",
       "<table border=\"1\" class=\"dataframe\">\n",
       "  <thead>\n",
       "    <tr style=\"text-align: right;\">\n",
       "      <th></th>\n",
       "      <th>names</th>\n",
       "      <th>ages</th>\n",
       "      <th>gender</th>\n",
       "    </tr>\n",
       "  </thead>\n",
       "  <tbody>\n",
       "    <tr>\n",
       "      <th>0</th>\n",
       "      <td>Ali</td>\n",
       "      <td>5</td>\n",
       "      <td>male</td>\n",
       "    </tr>\n",
       "    <tr>\n",
       "      <th>1</th>\n",
       "      <td>Ahmad</td>\n",
       "      <td>10</td>\n",
       "      <td>male</td>\n",
       "    </tr>\n",
       "    <tr>\n",
       "      <th>2</th>\n",
       "      <td>Sara</td>\n",
       "      <td>3</td>\n",
       "      <td>female</td>\n",
       "    </tr>\n",
       "    <tr>\n",
       "      <th>3</th>\n",
       "      <td>Reza</td>\n",
       "      <td>13</td>\n",
       "      <td>male</td>\n",
       "    </tr>\n",
       "    <tr>\n",
       "      <th>4</th>\n",
       "      <td>Elnaz</td>\n",
       "      <td>12</td>\n",
       "      <td>female</td>\n",
       "    </tr>\n",
       "  </tbody>\n",
       "</table>\n",
       "</div>"
      ],
      "text/plain": [
       "   names  ages  gender\n",
       "0    Ali     5    male\n",
       "1  Ahmad    10    male\n",
       "2   Sara     3  female\n",
       "3   Reza    13    male\n",
       "4  Elnaz    12  female"
      ]
     },
     "execution_count": 46,
     "metadata": {},
     "output_type": "execute_result"
    }
   ],
   "source": [
    "persons_df"
   ]
  },
  {
   "cell_type": "markdown",
   "metadata": {},
   "source": [
    "## Data frame to excel"
   ]
  },
  {
   "cell_type": "code",
   "execution_count": 48,
   "metadata": {},
   "outputs": [],
   "source": [
    "persons_df.to_excel(r'C:\\Users\\mahdi\\OneDrive\\Documents\\GitHub\\Data-Mining-Project\\webscraping.xlsx' , index = False , header = True)"
   ]
  },
  {
   "cell_type": "code",
   "execution_count": null,
   "metadata": {},
   "outputs": [],
   "source": []
  }
 ],
 "metadata": {
  "kernelspec": {
   "display_name": "Python 3",
   "language": "python",
   "name": "python3"
  },
  "language_info": {
   "codemirror_mode": {
    "name": "ipython",
    "version": 3
   },
   "file_extension": ".py",
   "mimetype": "text/x-python",
   "name": "python",
   "nbconvert_exporter": "python",
   "pygments_lexer": "ipython3",
   "version": "3.7.1"
  }
 },
 "nbformat": 4,
 "nbformat_minor": 2
}
